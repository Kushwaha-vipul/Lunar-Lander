{
  "cells": [
    {
      "cell_type": "markdown",
      "metadata": {
        "id": "view-in-github",
        "colab_type": "text"
      },
      "source": [
        "<a href=\"https://colab.research.google.com/github/Kushwaha-vipul/Lunar-lander/blob/main/Deep_Q_Learning_for_Lunar_Landing_Partial_Code.ipynb\" target=\"_parent\"><img src=\"https://colab.research.google.com/assets/colab-badge.svg\" alt=\"Open In Colab\"/></a>"
      ]
    },
    {
      "cell_type": "markdown",
      "metadata": {
        "id": "LbZcI9ZXHl3a"
      },
      "source": [
        "# Deep Q-Learning for Lunar Landing"
      ]
    },
    {
      "cell_type": "markdown",
      "metadata": {
        "id": "E8yPRjteXgPb"
      },
      "source": [
        "## Part 0 - Installing the required packages and importing the libraries"
      ]
    },
    {
      "cell_type": "markdown",
      "metadata": {
        "id": "slEm5teGWjWU"
      },
      "source": [
        "### Installing Gymnasium"
      ]
    },
    {
      "cell_type": "code",
      "execution_count": null,
      "metadata": {
        "colab": {
          "base_uri": "https://localhost:8080/"
        },
        "id": "dbnq3XpoKa_7",
        "outputId": "b1f29e42-c29e-4ad8-c1e7-f7b78a2728eb"
      },
      "outputs": [
        {
          "name": "stdout",
          "output_type": "stream",
          "text": [
            "Collecting gymnasium\n",
            "  Downloading gymnasium-0.29.1-py3-none-any.whl (953 kB)\n",
            "\u001b[2K     \u001b[90m━━━━━━━━━━━━━━━━━━━━━━━━━━━━━━━━━━━━━━━━\u001b[0m \u001b[32m953.9/953.9 kB\u001b[0m \u001b[31m7.5 MB/s\u001b[0m eta \u001b[36m0:00:00\u001b[0m\n",
            "\u001b[?25hRequirement already satisfied: numpy>=1.21.0 in /usr/local/lib/python3.10/dist-packages (from gymnasium) (1.23.5)\n",
            "Requirement already satisfied: cloudpickle>=1.2.0 in /usr/local/lib/python3.10/dist-packages (from gymnasium) (2.2.1)\n",
            "Requirement already satisfied: typing-extensions>=4.3.0 in /usr/local/lib/python3.10/dist-packages (from gymnasium) (4.5.0)\n",
            "Collecting farama-notifications>=0.0.1 (from gymnasium)\n",
            "  Downloading Farama_Notifications-0.0.4-py3-none-any.whl (2.5 kB)\n",
            "Installing collected packages: farama-notifications, gymnasium\n",
            "Successfully installed farama-notifications-0.0.4 gymnasium-0.29.1\n",
            "Requirement already satisfied: gymnasium[accept-rom-license,atari] in /usr/local/lib/python3.10/dist-packages (0.29.1)\n",
            "Requirement already satisfied: numpy>=1.21.0 in /usr/local/lib/python3.10/dist-packages (from gymnasium[accept-rom-license,atari]) (1.23.5)\n",
            "Requirement already satisfied: cloudpickle>=1.2.0 in /usr/local/lib/python3.10/dist-packages (from gymnasium[accept-rom-license,atari]) (2.2.1)\n",
            "Requirement already satisfied: typing-extensions>=4.3.0 in /usr/local/lib/python3.10/dist-packages (from gymnasium[accept-rom-license,atari]) (4.5.0)\n",
            "Requirement already satisfied: farama-notifications>=0.0.1 in /usr/local/lib/python3.10/dist-packages (from gymnasium[accept-rom-license,atari]) (0.0.4)\n",
            "Collecting autorom[accept-rom-license]~=0.4.2 (from gymnasium[accept-rom-license,atari])\n",
            "  Downloading AutoROM-0.4.2-py3-none-any.whl (16 kB)\n",
            "Collecting shimmy[atari]<1.0,>=0.1.0 (from gymnasium[accept-rom-license,atari])\n",
            "  Downloading Shimmy-0.2.1-py3-none-any.whl (25 kB)\n",
            "Requirement already satisfied: click in /usr/local/lib/python3.10/dist-packages (from autorom[accept-rom-license]~=0.4.2->gymnasium[accept-rom-license,atari]) (8.1.7)\n",
            "Requirement already satisfied: requests in /usr/local/lib/python3.10/dist-packages (from autorom[accept-rom-license]~=0.4.2->gymnasium[accept-rom-license,atari]) (2.31.0)\n",
            "Requirement already satisfied: tqdm in /usr/local/lib/python3.10/dist-packages (from autorom[accept-rom-license]~=0.4.2->gymnasium[accept-rom-license,atari]) (4.66.1)\n",
            "Collecting AutoROM.accept-rom-license (from autorom[accept-rom-license]~=0.4.2->gymnasium[accept-rom-license,atari])\n",
            "  Downloading AutoROM.accept-rom-license-0.6.1.tar.gz (434 kB)\n",
            "\u001b[2K     \u001b[90m━━━━━━━━━━━━━━━━━━━━━━━━━━━━━━━━━━━━━━━━\u001b[0m \u001b[32m434.7/434.7 kB\u001b[0m \u001b[31m6.2 MB/s\u001b[0m eta \u001b[36m0:00:00\u001b[0m\n",
            "\u001b[?25h  Installing build dependencies ... \u001b[?25l\u001b[?25hdone\n",
            "  Getting requirements to build wheel ... \u001b[?25l\u001b[?25hdone\n",
            "  Preparing metadata (pyproject.toml) ... \u001b[?25l\u001b[?25hdone\n",
            "Collecting ale-py~=0.8.1 (from shimmy[atari]<1.0,>=0.1.0->gymnasium[accept-rom-license,atari])\n",
            "  Downloading ale_py-0.8.1-cp310-cp310-manylinux_2_17_x86_64.manylinux2014_x86_64.whl (1.7 MB)\n",
            "\u001b[2K     \u001b[90m━━━━━━━━━━━━━━━━━━━━━━━━━━━━━━━━━━━━━━━━\u001b[0m \u001b[32m1.7/1.7 MB\u001b[0m \u001b[31m10.8 MB/s\u001b[0m eta \u001b[36m0:00:00\u001b[0m\n",
            "\u001b[?25hRequirement already satisfied: importlib-resources in /usr/local/lib/python3.10/dist-packages (from ale-py~=0.8.1->shimmy[atari]<1.0,>=0.1.0->gymnasium[accept-rom-license,atari]) (6.1.1)\n",
            "Requirement already satisfied: charset-normalizer<4,>=2 in /usr/local/lib/python3.10/dist-packages (from requests->autorom[accept-rom-license]~=0.4.2->gymnasium[accept-rom-license,atari]) (3.3.2)\n",
            "Requirement already satisfied: idna<4,>=2.5 in /usr/local/lib/python3.10/dist-packages (from requests->autorom[accept-rom-license]~=0.4.2->gymnasium[accept-rom-license,atari]) (3.6)\n",
            "Requirement already satisfied: urllib3<3,>=1.21.1 in /usr/local/lib/python3.10/dist-packages (from requests->autorom[accept-rom-license]~=0.4.2->gymnasium[accept-rom-license,atari]) (2.0.7)\n",
            "Requirement already satisfied: certifi>=2017.4.17 in /usr/local/lib/python3.10/dist-packages (from requests->autorom[accept-rom-license]~=0.4.2->gymnasium[accept-rom-license,atari]) (2023.11.17)\n",
            "Building wheels for collected packages: AutoROM.accept-rom-license\n",
            "  Building wheel for AutoROM.accept-rom-license (pyproject.toml) ... \u001b[?25l\u001b[?25hdone\n",
            "  Created wheel for AutoROM.accept-rom-license: filename=AutoROM.accept_rom_license-0.6.1-py3-none-any.whl size=446660 sha256=05e07e7da8be2e9db73b095b1ecd7cca987419eb5f1e9112c5e5a385d3a659bf\n",
            "  Stored in directory: /root/.cache/pip/wheels/6b/1b/ef/a43ff1a2f1736d5711faa1ba4c1f61be1131b8899e6a057811\n",
            "Successfully built AutoROM.accept-rom-license\n",
            "Installing collected packages: ale-py, shimmy, AutoROM.accept-rom-license, autorom\n",
            "Successfully installed AutoROM.accept-rom-license-0.6.1 ale-py-0.8.1 autorom-0.4.2 shimmy-0.2.1\n",
            "Reading package lists... Done\n",
            "Building dependency tree... Done\n",
            "Reading state information... Done\n",
            "The following additional packages will be installed:\n",
            "  swig4.0\n",
            "Suggested packages:\n",
            "  swig-doc swig-examples swig4.0-examples swig4.0-doc\n",
            "The following NEW packages will be installed:\n",
            "  swig swig4.0\n",
            "0 upgraded, 2 newly installed, 0 to remove and 24 not upgraded.\n",
            "Need to get 1,116 kB of archives.\n",
            "After this operation, 5,542 kB of additional disk space will be used.\n",
            "Get:1 http://archive.ubuntu.com/ubuntu jammy/universe amd64 swig4.0 amd64 4.0.2-1ubuntu1 [1,110 kB]\n",
            "Get:2 http://archive.ubuntu.com/ubuntu jammy/universe amd64 swig all 4.0.2-1ubuntu1 [5,632 B]\n",
            "Fetched 1,116 kB in 1s (1,588 kB/s)\n",
            "Selecting previously unselected package swig4.0.\n",
            "(Reading database ... 121654 files and directories currently installed.)\n",
            "Preparing to unpack .../swig4.0_4.0.2-1ubuntu1_amd64.deb ...\n",
            "Unpacking swig4.0 (4.0.2-1ubuntu1) ...\n",
            "Selecting previously unselected package swig.\n",
            "Preparing to unpack .../swig_4.0.2-1ubuntu1_all.deb ...\n",
            "Unpacking swig (4.0.2-1ubuntu1) ...\n",
            "Setting up swig4.0 (4.0.2-1ubuntu1) ...\n",
            "Setting up swig (4.0.2-1ubuntu1) ...\n",
            "Processing triggers for man-db (2.10.2-1) ...\n",
            "Requirement already satisfied: gymnasium[box2d] in /usr/local/lib/python3.10/dist-packages (0.29.1)\n",
            "Requirement already satisfied: numpy>=1.21.0 in /usr/local/lib/python3.10/dist-packages (from gymnasium[box2d]) (1.23.5)\n",
            "Requirement already satisfied: cloudpickle>=1.2.0 in /usr/local/lib/python3.10/dist-packages (from gymnasium[box2d]) (2.2.1)\n",
            "Requirement already satisfied: typing-extensions>=4.3.0 in /usr/local/lib/python3.10/dist-packages (from gymnasium[box2d]) (4.5.0)\n",
            "Requirement already satisfied: farama-notifications>=0.0.1 in /usr/local/lib/python3.10/dist-packages (from gymnasium[box2d]) (0.0.4)\n",
            "Collecting box2d-py==2.3.5 (from gymnasium[box2d])\n",
            "  Downloading box2d-py-2.3.5.tar.gz (374 kB)\n",
            "\u001b[2K     \u001b[90m━━━━━━━━━━━━━━━━━━━━━━━━━━━━━━━━━━━━━━━━\u001b[0m \u001b[32m374.4/374.4 kB\u001b[0m \u001b[31m5.6 MB/s\u001b[0m eta \u001b[36m0:00:00\u001b[0m\n",
            "\u001b[?25h  Preparing metadata (setup.py) ... \u001b[?25l\u001b[?25hdone\n",
            "Requirement already satisfied: pygame>=2.1.3 in /usr/local/lib/python3.10/dist-packages (from gymnasium[box2d]) (2.5.2)\n",
            "Collecting swig==4.* (from gymnasium[box2d])\n",
            "  Downloading swig-4.1.1.post1-py2.py3-none-manylinux_2_5_x86_64.manylinux1_x86_64.whl (1.8 MB)\n",
            "\u001b[2K     \u001b[90m━━━━━━━━━━━━━━━━━━━━━━━━━━━━━━━━━━━━━━━━\u001b[0m \u001b[32m1.8/1.8 MB\u001b[0m \u001b[31m13.7 MB/s\u001b[0m eta \u001b[36m0:00:00\u001b[0m\n",
            "\u001b[?25hBuilding wheels for collected packages: box2d-py\n",
            "  Building wheel for box2d-py (setup.py) ... \u001b[?25l\u001b[?25hdone\n",
            "  Created wheel for box2d-py: filename=box2d_py-2.3.5-cp310-cp310-linux_x86_64.whl size=2349112 sha256=f6acc497ecc65f7cec0611e91cac551f5838a4d73f13c5e23b0f271587b1204e\n",
            "  Stored in directory: /root/.cache/pip/wheels/db/8f/6a/eaaadf056fba10a98d986f6dce954e6201ba3126926fc5ad9e\n",
            "Successfully built box2d-py\n",
            "Installing collected packages: swig, box2d-py\n",
            "Successfully installed box2d-py-2.3.5 swig-4.1.1.post1\n"
          ]
        }
      ],
      "source": [
        "!pip install gymnasium\n",
        "!pip install \"gymnasium[atari, accept-rom-license]\"\n",
        "!apt-get install -y swig\n",
        "!pip install gymnasium[box2d]"
      ]
    },
    {
      "cell_type": "markdown",
      "metadata": {
        "id": "brqiMN3UW9T9"
      },
      "source": [
        "### Importing the libraries"
      ]
    },
    {
      "cell_type": "code",
      "execution_count": null,
      "metadata": {
        "id": "mZaKXP_aMl9O"
      },
      "outputs": [],
      "source": [
        "import os\n",
        "import random\n",
        "import numpy as np\n",
        "import torch\n",
        "import torch.nn as nn\n",
        "import torch.optim as optim\n",
        "import torch.nn.functional as F\n",
        "import torch.autograd as autograd\n",
        "from torch.autograd import Variable\n",
        "from collections import deque, namedtuple"
      ]
    },
    {
      "cell_type": "markdown",
      "metadata": {
        "id": "EzlDKXvkXzGI"
      },
      "source": [
        "## Part 1 - Building the AI"
      ]
    },
    {
      "cell_type": "markdown",
      "metadata": {
        "id": "UtG6Zc83YYy3"
      },
      "source": [
        "### Creating the architecture of the Neural Network"
      ]
    },
    {
      "cell_type": "code",
      "execution_count": null,
      "metadata": {
        "id": "YFsadgy-ueGl"
      },
      "outputs": [],
      "source": [
        "class Network(nn.Module):\n",
        "  def __init__(self,state_size, action_size,seed=42):\n",
        "      super(Network, self).__init__()\n",
        "      self.seed=torch.manual_seed(seed)\n",
        "      self.fc1=nn.Linear(state_size, 64)\n",
        "      self.fc2=nn.Linear(64, 64)\n",
        "      self.fc3=nn.Linear(64, action_size)\n",
        "\n",
        "  def forward(self, state):\n",
        "     x=self.fc1(state)\n",
        "     x=F.relu(x)\n",
        "     x=self.fc2(x)\n",
        "     return self.fc3(x)\n"
      ]
    },
    {
      "cell_type": "markdown",
      "metadata": {
        "id": "UxVrBnFWZKb1"
      },
      "source": [
        "## Part 2 - Training the AI"
      ]
    },
    {
      "cell_type": "markdown",
      "metadata": {
        "id": "T364fz9qZb2j"
      },
      "source": [
        "### Setting up the environment"
      ]
    },
    {
      "cell_type": "code",
      "execution_count": null,
      "metadata": {
        "id": "CHBlkC1mzQku"
      },
      "outputs": [],
      "source": [
        "import gymnasium as gym\n",
        "env = gym.make('LunarLander-v2')\n",
        "state_shape= env.observation_space.shape\n",
        "state_size= env.observation_space.shape[0]\n",
        "number_actions=env.action_space.n\n",
        "print('state shape: ', state_shape)\n",
        "print('state size: ', state_size)\n",
        "print('Number of actions: number_actions')"
      ]
    },
    {
      "cell_type": "markdown",
      "metadata": {
        "id": "c_dZmOIvZgj-"
      },
      "source": [
        "### Initializing the hyperparameters"
      ]
    },
    {
      "cell_type": "code",
      "execution_count": null,
      "metadata": {
        "id": "gU2TWQupUaCS"
      },
      "outputs": [],
      "source": [
        "learning_rate=5e-4\n",
        "minibatch_size=100\n",
        "discount_factor=0.99\n",
        "replay_buffer_size=int(1e5)\n",
        "interpolation_parameter=1e-3"
      ]
    },
    {
      "cell_type": "markdown",
      "metadata": {
        "id": "8hD_Vs-bYnip"
      },
      "source": [
        "### Implementing Experience Replay"
      ]
    },
    {
      "cell_type": "code",
      "execution_count": null,
      "metadata": {
        "id": "UC8KFAgAU9kD"
      },
      "outputs": [],
      "source": [
        "class ReplayMemory(object):\n",
        "  def __init__(self, capacity):\n",
        "    self.device=torch.device(\"cuda:0\" if torch.cuda.is_available() else \"cpu\")\n",
        "    self.capacity= capacity\n",
        "    self.memory = []\n",
        "\n",
        "  def push(self,event):\n",
        "    self.memory.append(event)\n",
        "    if len(self.memory)>self.capacity:\n",
        "      del self.memory[0]\n",
        "\n",
        "  def sample(self, batch_size):\n",
        "    experiences=random.sample(self.memory, k=batch_size)\n",
        "    states= torch.from_numpy(np.vstack([e[0] for e in experiences if e is not None])).float().to(self.device)\n",
        "    actions= torch.from_numpy(np.vstack([e[1] for e in experiences if e is not None])).long().to(self.device)\n",
        "    rewards= torch.from_numpy(np.vstack([e[2] for e in experiences if e is not None])).float().to(self.device)\n",
        "    next_states= torch.from_numpy(np.vstack([e[3] for e in experiences if e is not None])).float().to(self.device)\n",
        "    dones = torch.from_numpy(np.vstack([e[4] for e in experiences if e is not None])).to(torch.uint8).float().to(self.device)\n",
        "    return states,next_states,actions, rewards,done"
      ]
    },
    {
      "cell_type": "markdown",
      "metadata": {
        "id": "JmEkbFbUY6Jt"
      },
      "source": [
        "### Implementing the DQN class"
      ]
    },
    {
      "cell_type": "code",
      "execution_count": null,
      "metadata": {
        "id": "1MEUNrH-hnjx"
      },
      "outputs": [],
      "source": [
        "class Agent():\n",
        "\n",
        "  def __init__(self, state_size, action_size):\n",
        "    self.device = torch.device(\"cuda:0\" if torch.cuda.is_available() else \"cpu\")\n",
        "    self.state_size = state_size\n",
        "    self.action_size = action_size\n",
        "    self.local_qnetwork = Network(state_size, action_size).to(self.device)\n",
        "    self.target_qnetwork = Network(state_size, action_size).to(self.device)\n",
        "    self.optimizer = optim.Adam(self.local_qnetwork.parameters(), lr = learning_rate)\n",
        "    self.memory = ReplayMemory(replay_buffer_size)\n",
        "    self.t_step = 0\n",
        "\n",
        "  def step(self, state, action, reward, next_state, done):\n",
        "    self.memory.push((state, action, reward, next_state, done))\n",
        "    self.t_step = (self.t_step + 1) % 4\n",
        "    if self.t_step == 0:\n",
        "      if len(self.memory.memory) > minibatch_size:\n",
        "        experiences = self.memory.sample(100)\n",
        "        self.learn(experiences, discount_factor)\n",
        "\n",
        "  def act(self, state, epsilon = 0.):\n",
        "    state = torch.from_numpy(state).float().unsqueeze(0).to(self.device)\n",
        "    self.local_qnetwork.eval()\n",
        "    with torch.no_grad():\n",
        "      action_values = self.local_qnetwork(state)\n",
        "    self.local_qnetwork.train()\n",
        "    if random.random() > epsilon:\n",
        "      return np.argmax(action_values.cpu().data.numpy())\n",
        "    else:\n",
        "      return random.choice(np.arange(self.action_size))\n",
        "\n",
        "  def learn(self, experiences, discount_factor):\n",
        "    states, next_states, actions, rewards, dones = experiences\n",
        "    next_q_targets = self.target_qnetwork(next_states).detach().max(1)[0].unsqueeze(1)\n",
        "    q_targets = rewards + discount_factor * next_q_targets * (1 - dones)\n",
        "    q_expected = self.local_qnetwork(states).gather(1, actions)\n",
        "    loss = F.mse_loss(q_expected, q_targets)\n",
        "    self.optimizer.zero_grad()\n",
        "    loss.backward()\n",
        "    self.optimizer.step()\n",
        "    self.soft_update(self.local_qnetwork, self.target_qnetwork, interpolation_parameter)\n",
        "\n",
        "  def soft_update(self, local_model, target_model, interpolation_parameter):\n",
        "    for target_param, local_param in zip(target_model.parameters(), local_model.parameters()):\n",
        "      target_param.data.copy_(interpolation_parameter * local_param.data + (1.0 - interpolation_parameter) * target_param.data)"
      ]
    },
    {
      "cell_type": "markdown",
      "metadata": {
        "id": "o1tZElccZmf6"
      },
      "source": [
        "### Initializing the DQN agent"
      ]
    },
    {
      "cell_type": "code",
      "execution_count": null,
      "metadata": {
        "id": "93Gybuu-AMuh"
      },
      "outputs": [],
      "source": [
        "agent = Agent(state_size, number_actions)"
      ]
    },
    {
      "cell_type": "markdown",
      "metadata": {
        "id": "E8v0PtUfaVQp"
      },
      "source": [
        "### Training the DQN agent"
      ]
    },
    {
      "cell_type": "code",
      "execution_count": null,
      "metadata": {
        "colab": {
          "base_uri": "https://localhost:8080/"
        },
        "id": "Ua0yApX1JIcj",
        "outputId": "356e07ba-493c-4eb3-ba84-577febcb3139"
      },
      "outputs": [
        {
          "output_type": "stream",
          "name": "stdout",
          "text": [
            "Episode 100\tAverage Score: -174.42\n",
            "Episode 200\tAverage Score: -183.80\n",
            "Episode 300\tAverage Score: -123.76\n",
            "Episode 400\tAverage Score: -95.45\n",
            "Episode 500\tAverage Score: -30.13\n",
            "Episode 600\tAverage Score: 21.06\n",
            "Episode 700\tAverage Score: 46.79\n",
            "Episode 800\tAverage Score: 118.52\n",
            "Episode 900\tAverage Score: 126.86\n",
            "Episode 1000\tAverage Score: 182.22\n",
            "Episode 1022\tAverage Score: 200.67\n",
            "Environment solved in 922 episodes!\tAverage Score: 200.67\n"
          ]
        }
      ],
      "source": [
        "number_episodes = 2000\n",
        "maximum_number_timesteps_per_episode = 1000\n",
        "epsilon_starting_value  = 1.0\n",
        "epsilon_ending_value  = 0.01\n",
        "epsilon_decay_value  = 0.995\n",
        "epsilon = epsilon_starting_value\n",
        "scores_on_100_episodes = deque(maxlen = 100)\n",
        "\n",
        "for episode in range(1, number_episodes + 1):\n",
        "  state, _ = env.reset()\n",
        "  score = 0\n",
        "  for t in range(maximum_number_timesteps_per_episode):\n",
        "    action = agent.act(state, epsilon)\n",
        "    next_state, reward, done, _, _ = env.step(action)\n",
        "    agent.step(state, action, reward, next_state, done)\n",
        "    state = next_state\n",
        "    score += reward\n",
        "    if done:\n",
        "      break\n",
        "  scores_on_100_episodes.append(score)\n",
        "  epsilon = max(epsilon_ending_value, epsilon_decay_value * epsilon)\n",
        "  print('\\rEpisode {}\\tAverage Score: {:.2f}'.format(episode, np.mean(scores_on_100_episodes)), end = \"\")\n",
        "  if episode % 100 == 0:\n",
        "    print('\\rEpisode {}\\tAverage Score: {:.2f}'.format(episode, np.mean(scores_on_100_episodes)))\n",
        "  if np.mean(scores_on_100_episodes) >= 200.0:\n",
        "    print('\\nEnvironment solved in {:d} episodes!\\tAverage Score: {:.2f}'.format(episode - 100, np.mean(scores_on_100_episodes)))\n",
        "    torch.save(agent.local_qnetwork.state_dict(), 'checkpoint.pth')\n",
        "    break"
      ]
    },
    {
      "cell_type": "markdown",
      "metadata": {
        "id": "O8CNwdOTcCoP"
      },
      "source": [
        "## Part 3 - Visualizing the results"
      ]
    },
    {
      "cell_type": "code",
      "execution_count": null,
      "metadata": {
        "id": "cb9nVvU2Okhk",
        "colab": {
          "base_uri": "https://localhost:8080/",
          "height": 459
        },
        "outputId": "ea8c1490-b21e-4785-d98e-4e29b74a4bae"
      },
      "outputs": [
        {
          "output_type": "stream",
          "name": "stderr",
          "text": [
            "WARNING:imageio_ffmpeg:IMAGEIO FFMPEG_WRITER WARNING: input image is not divisible by macro_block_size=16, resizing from (600, 400) to (608, 400) to ensure video compatibility with most codecs and players. To prevent resizing, make your input image divisible by the macro_block_size or set the macro_block_size to 1 (risking incompatibility).\n"
          ]
        },
        {
          "output_type": "display_data",
          "data": {
            "text/plain": [
              "<IPython.core.display.HTML object>"
            ],
            "text/html": [
              "<video alt=\"test\" autoplay\n",
              "                loop controls style=\"height: 400px;\">\n",
              "                <source src=\"data:video/mp4;base64,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\" type=\"video/mp4\" />\n",
              "             </video>"
            ]
          },
          "metadata": {}
        }
      ],
      "source": [
        "import glob\n",
        "import io\n",
        "import base64\n",
        "import imageio\n",
        "from IPython.display import HTML, display\n",
        "from gym.wrappers.monitoring.video_recorder import VideoRecorder\n",
        "\n",
        "def show_video_of_model(agent, env_name):\n",
        "    env = gym.make(env_name, render_mode='rgb_array')\n",
        "    state, _ = env.reset()\n",
        "    done = False\n",
        "    frames = []\n",
        "    while not done:\n",
        "        frame = env.render()\n",
        "        frames.append(frame)\n",
        "        action = agent.act(state)\n",
        "        state, reward, done, _, _ = env.step(action.item())\n",
        "    env.close()\n",
        "    imageio.mimsave('video.mp4', frames, fps=30)\n",
        "\n",
        "show_video_of_model(agent, 'LunarLander-v2')\n",
        "\n",
        "def show_video():\n",
        "    mp4list = glob.glob('*.mp4')\n",
        "    if len(mp4list) > 0:\n",
        "        mp4 = mp4list[0]\n",
        "        video = io.open(mp4, 'r+b').read()\n",
        "        encoded = base64.b64encode(video)\n",
        "        display(HTML(data='''<video alt=\"test\" autoplay\n",
        "                loop controls style=\"height: 400px;\">\n",
        "                <source src=\"data:video/mp4;base64,{0}\" type=\"video/mp4\" />\n",
        "             </video>'''.format(encoded.decode('ascii'))))\n",
        "    else:\n",
        "        print(\"Could not find video\")\n",
        "\n",
        "show_video()"
      ]
    }
  ],
  "metadata": {
    "colab": {
      "provenance": [],
      "include_colab_link": true
    },
    "kernelspec": {
      "display_name": "Python 3",
      "name": "python3"
    },
    "language_info": {
      "name": "python"
    }
  },
  "nbformat": 4,
  "nbformat_minor": 0
}